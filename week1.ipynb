{
 "cells": [
  {
   "cell_type": "code",
   "execution_count": 87,
   "metadata": {},
   "outputs": [],
   "source": [
    "import pandas as pd\n",
    "import numpy as np\n",
    "import matplotlib.pyplot as plt"
   ]
  },
  {
   "cell_type": "code",
   "execution_count": 88,
   "metadata": {},
   "outputs": [
    {
     "data": {
      "text/html": [
       "<div>\n",
       "<style scoped>\n",
       "    .dataframe tbody tr th:only-of-type {\n",
       "        vertical-align: middle;\n",
       "    }\n",
       "\n",
       "    .dataframe tbody tr th {\n",
       "        vertical-align: top;\n",
       "    }\n",
       "\n",
       "    .dataframe thead th {\n",
       "        text-align: right;\n",
       "    }\n",
       "</style>\n",
       "<table border=\"1\" class=\"dataframe\">\n",
       "  <thead>\n",
       "    <tr style=\"text-align: right;\">\n",
       "      <th></th>\n",
       "      <th>Question: In hindsight, do you think Britain was right or wrong to vote to leave the EU?</th>\n",
       "      <th>Unnamed: 1</th>\n",
       "      <th>Unnamed: 2</th>\n",
       "    </tr>\n",
       "  </thead>\n",
       "  <tbody>\n",
       "    <tr>\n",
       "      <th>0</th>\n",
       "      <td>Source: NatCen Social Research</td>\n",
       "      <td>NaN</td>\n",
       "      <td>NaN</td>\n",
       "    </tr>\n",
       "    <tr>\n",
       "      <th>1</th>\n",
       "      <td>NaN</td>\n",
       "      <td>NaN</td>\n",
       "      <td>NaN</td>\n",
       "    </tr>\n",
       "    <tr>\n",
       "      <th>2</th>\n",
       "      <td>Date</td>\n",
       "      <td>% responding right</td>\n",
       "      <td>% responding wrong</td>\n",
       "    </tr>\n",
       "    <tr>\n",
       "      <th>3</th>\n",
       "      <td>02/08/16</td>\n",
       "      <td>46</td>\n",
       "      <td>42</td>\n",
       "    </tr>\n",
       "    <tr>\n",
       "      <th>4</th>\n",
       "      <td>09/08/16</td>\n",
       "      <td>45</td>\n",
       "      <td>44</td>\n",
       "    </tr>\n",
       "  </tbody>\n",
       "</table>\n",
       "</div>"
      ],
      "text/plain": [
       "  Question: In hindsight, do you think Britain was right or wrong to vote to leave the EU?  \\\n",
       "0                     Source: NatCen Social Research                                         \n",
       "1                                                NaN                                         \n",
       "2                                               Date                                         \n",
       "3                                           02/08/16                                         \n",
       "4                                           09/08/16                                         \n",
       "\n",
       "           Unnamed: 1          Unnamed: 2  \n",
       "0                 NaN                 NaN  \n",
       "1                 NaN                 NaN  \n",
       "2  % responding right  % responding wrong  \n",
       "3                  46                  42  \n",
       "4                  45                  44  "
      ]
     },
     "execution_count": 88,
     "metadata": {},
     "output_type": "execute_result"
    }
   ],
   "source": [
    "df = pd.read_csv('brexit.csv')\n",
    "df.head()"
   ]
  },
  {
   "cell_type": "code",
   "execution_count": 89,
   "metadata": {},
   "outputs": [
    {
     "data": {
      "text/html": [
       "<div>\n",
       "<style scoped>\n",
       "    .dataframe tbody tr th:only-of-type {\n",
       "        vertical-align: middle;\n",
       "    }\n",
       "\n",
       "    .dataframe tbody tr th {\n",
       "        vertical-align: top;\n",
       "    }\n",
       "\n",
       "    .dataframe thead th {\n",
       "        text-align: right;\n",
       "    }\n",
       "</style>\n",
       "<table border=\"1\" class=\"dataframe\">\n",
       "  <thead>\n",
       "    <tr style=\"text-align: right;\">\n",
       "      <th></th>\n",
       "      <th>Question: In hindsight, do you think Britain was right or wrong to vote to leave the EU?</th>\n",
       "      <th>Unnamed: 1</th>\n",
       "      <th>Unnamed: 2</th>\n",
       "    </tr>\n",
       "  </thead>\n",
       "  <tbody>\n",
       "    <tr>\n",
       "      <th>0</th>\n",
       "      <td>Date</td>\n",
       "      <td>% responding right</td>\n",
       "      <td>% responding wrong</td>\n",
       "    </tr>\n",
       "    <tr>\n",
       "      <th>1</th>\n",
       "      <td>02/08/16</td>\n",
       "      <td>46</td>\n",
       "      <td>42</td>\n",
       "    </tr>\n",
       "    <tr>\n",
       "      <th>2</th>\n",
       "      <td>09/08/16</td>\n",
       "      <td>45</td>\n",
       "      <td>44</td>\n",
       "    </tr>\n",
       "    <tr>\n",
       "      <th>3</th>\n",
       "      <td>17/08/16</td>\n",
       "      <td>46</td>\n",
       "      <td>43</td>\n",
       "    </tr>\n",
       "    <tr>\n",
       "      <th>4</th>\n",
       "      <td>23/08/16</td>\n",
       "      <td>45</td>\n",
       "      <td>43</td>\n",
       "    </tr>\n",
       "  </tbody>\n",
       "</table>\n",
       "</div>"
      ],
      "text/plain": [
       "  Question: In hindsight, do you think Britain was right or wrong to vote to leave the EU?  \\\n",
       "0                                               Date                                         \n",
       "1                                           02/08/16                                         \n",
       "2                                           09/08/16                                         \n",
       "3                                           17/08/16                                         \n",
       "4                                           23/08/16                                         \n",
       "\n",
       "           Unnamed: 1          Unnamed: 2  \n",
       "0  % responding right  % responding wrong  \n",
       "1                  46                  42  \n",
       "2                  45                  44  \n",
       "3                  46                  43  \n",
       "4                  45                  43  "
      ]
     },
     "execution_count": 89,
     "metadata": {},
     "output_type": "execute_result"
    }
   ],
   "source": [
    "df = df.drop(df.index[:2])\n",
    "df.reset_index(drop=True, inplace=True)\n",
    "df.head()"
   ]
  },
  {
   "cell_type": "code",
   "execution_count": 90,
   "metadata": {},
   "outputs": [
    {
     "data": {
      "text/html": [
       "<div>\n",
       "<style scoped>\n",
       "    .dataframe tbody tr th:only-of-type {\n",
       "        vertical-align: middle;\n",
       "    }\n",
       "\n",
       "    .dataframe tbody tr th {\n",
       "        vertical-align: top;\n",
       "    }\n",
       "\n",
       "    .dataframe thead th {\n",
       "        text-align: right;\n",
       "    }\n",
       "</style>\n",
       "<table border=\"1\" class=\"dataframe\">\n",
       "  <thead>\n",
       "    <tr style=\"text-align: right;\">\n",
       "      <th></th>\n",
       "      <th>Date</th>\n",
       "      <th>% responding right</th>\n",
       "      <th>% responding wrong</th>\n",
       "    </tr>\n",
       "  </thead>\n",
       "  <tbody>\n",
       "    <tr>\n",
       "      <th>0</th>\n",
       "      <td>02/08/16</td>\n",
       "      <td>46</td>\n",
       "      <td>42</td>\n",
       "    </tr>\n",
       "    <tr>\n",
       "      <th>1</th>\n",
       "      <td>09/08/16</td>\n",
       "      <td>45</td>\n",
       "      <td>44</td>\n",
       "    </tr>\n",
       "    <tr>\n",
       "      <th>2</th>\n",
       "      <td>17/08/16</td>\n",
       "      <td>46</td>\n",
       "      <td>43</td>\n",
       "    </tr>\n",
       "    <tr>\n",
       "      <th>3</th>\n",
       "      <td>23/08/16</td>\n",
       "      <td>45</td>\n",
       "      <td>43</td>\n",
       "    </tr>\n",
       "    <tr>\n",
       "      <th>4</th>\n",
       "      <td>31/08/16</td>\n",
       "      <td>47</td>\n",
       "      <td>44</td>\n",
       "    </tr>\n",
       "  </tbody>\n",
       "</table>\n",
       "</div>"
      ],
      "text/plain": [
       "0      Date % responding right % responding wrong\n",
       "0  02/08/16                 46                 42\n",
       "1  09/08/16                 45                 44\n",
       "2  17/08/16                 46                 43\n",
       "3  23/08/16                 45                 43\n",
       "4  31/08/16                 47                 44"
      ]
     },
     "execution_count": 90,
     "metadata": {},
     "output_type": "execute_result"
    }
   ],
   "source": [
    "df.columns = df.iloc[0]\n",
    "df.drop(0, inplace=True)\n",
    "df.reset_index(drop=True, inplace=True)\n",
    "df.head()"
   ]
  },
  {
   "cell_type": "code",
   "execution_count": 91,
   "metadata": {},
   "outputs": [
    {
     "data": {
      "text/plain": [
       "0\n",
       "Date                  object\n",
       "% responding right    object\n",
       "% responding wrong    object\n",
       "dtype: object"
      ]
     },
     "execution_count": 91,
     "metadata": {},
     "output_type": "execute_result"
    }
   ],
   "source": [
    "df.dtypes"
   ]
  },
  {
   "cell_type": "code",
   "execution_count": 92,
   "metadata": {},
   "outputs": [
    {
     "data": {
      "text/plain": [
       "0\n",
       "Date                  datetime64[ns]\n",
       "% responding right            object\n",
       "% responding wrong            object\n",
       "dtype: object"
      ]
     },
     "execution_count": 92,
     "metadata": {},
     "output_type": "execute_result"
    }
   ],
   "source": [
    "df['Date'] = pd.to_datetime(df['Date'])\n",
    "df.dtypes"
   ]
  },
  {
   "cell_type": "code",
   "execution_count": 93,
   "metadata": {},
   "outputs": [],
   "source": [
    "df.set_index('Date', inplace=True)"
   ]
  },
  {
   "cell_type": "code",
   "execution_count": 94,
   "metadata": {},
   "outputs": [
    {
     "data": {
      "text/plain": [
       "DatetimeIndex(['2016-02-08', '2016-09-08', '2016-08-17', '2016-08-23',\n",
       "               '2016-08-31', '2016-09-14', '2016-12-10', '2016-10-20',\n",
       "               '2016-11-15', '2016-11-29', '2016-05-12', '2016-12-19',\n",
       "               '2017-04-01', '2017-10-01', '2017-01-18', '2017-01-31',\n",
       "               '2017-02-13', '2017-02-22', '2017-02-28', '2017-03-14',\n",
       "               '2017-03-15', '2017-03-21', '2017-03-27', '2017-06-04',\n",
       "               '2017-04-13', '2017-04-19', '2017-04-21', '2017-04-26',\n",
       "               '2017-03-05', '2017-10-05', '2017-05-14', '2017-05-17',\n",
       "               '2017-05-25', '2017-05-31', '2017-07-06', '2017-06-13',\n",
       "               '2017-06-22', '2017-11-07', '2017-07-19', '2017-01-08',\n",
       "               '2017-08-22', '2017-08-31', '2017-09-24', '2017-11-10',\n",
       "               '2017-10-19', '2017-10-20', '2017-10-24', '2017-08-11',\n",
       "               '2017-05-12', '2017-11-12', '2017-12-20', '2018-08-01',\n",
       "               '2018-01-17', '2018-01-29', '2018-06-02', '2018-02-13',\n",
       "               '2018-02-20', '2018-02-27', '2018-06-03', '2018-03-23',\n",
       "               '2018-03-27', '2018-10-04', '2018-04-17', '2018-04-25',\n",
       "               '2018-01-05', '2018-09-05', '2018-05-14', '2018-05-21',\n",
       "               '2018-05-29', '2018-05-06', '2018-12-06', '2018-06-19',\n",
       "               '2018-06-20', '2018-06-26', '2018-04-07', '2018-09-07',\n",
       "               '2018-11-07', '2018-07-17', '2018-07-23', '2018-09-08',\n",
       "               '2018-08-13', '2018-08-14', '2018-08-21', '2018-08-29',\n",
       "               '2018-04-09'],\n",
       "              dtype='datetime64[ns]', name='Date', freq=None)"
      ]
     },
     "execution_count": 94,
     "metadata": {},
     "output_type": "execute_result"
    }
   ],
   "source": [
    "df.index"
   ]
  },
  {
   "cell_type": "code",
   "execution_count": 95,
   "metadata": {},
   "outputs": [
    {
     "data": {
      "text/plain": [
       "DatetimeIndex(['2016-02-08', '2016-05-12', '2016-08-17', '2016-08-23',\n",
       "               '2016-08-31', '2016-09-08', '2016-09-14', '2016-10-20',\n",
       "               '2016-11-15', '2016-11-29', '2016-12-10', '2016-12-19',\n",
       "               '2017-01-08', '2017-01-18', '2017-01-31', '2017-02-13',\n",
       "               '2017-02-22', '2017-02-28', '2017-03-05', '2017-03-14',\n",
       "               '2017-03-15', '2017-03-21', '2017-03-27', '2017-04-01',\n",
       "               '2017-04-13', '2017-04-19', '2017-04-21', '2017-04-26',\n",
       "               '2017-05-12', '2017-05-14', '2017-05-17', '2017-05-25',\n",
       "               '2017-05-31', '2017-06-04', '2017-06-13', '2017-06-22',\n",
       "               '2017-07-06', '2017-07-19', '2017-08-11', '2017-08-22',\n",
       "               '2017-08-31', '2017-09-24', '2017-10-01', '2017-10-05',\n",
       "               '2017-10-19', '2017-10-20', '2017-10-24', '2017-11-07',\n",
       "               '2017-11-10', '2017-11-12', '2017-12-20', '2018-01-05',\n",
       "               '2018-01-17', '2018-01-29', '2018-02-13', '2018-02-20',\n",
       "               '2018-02-27', '2018-03-23', '2018-03-27', '2018-04-07',\n",
       "               '2018-04-09', '2018-04-17', '2018-04-25', '2018-05-06',\n",
       "               '2018-05-14', '2018-05-21', '2018-05-29', '2018-06-02',\n",
       "               '2018-06-03', '2018-06-19', '2018-06-20', '2018-06-26',\n",
       "               '2018-07-17', '2018-07-23', '2018-08-01', '2018-08-13',\n",
       "               '2018-08-14', '2018-08-21', '2018-08-29', '2018-09-05',\n",
       "               '2018-09-07', '2018-09-08', '2018-10-04', '2018-11-07',\n",
       "               '2018-12-06'],\n",
       "              dtype='datetime64[ns]', name='Date', freq=None)"
      ]
     },
     "execution_count": 95,
     "metadata": {},
     "output_type": "execute_result"
    }
   ],
   "source": [
    "df = df.sort_index(ascending=True)\n",
    "df.index"
   ]
  },
  {
   "cell_type": "code",
   "execution_count": 96,
   "metadata": {},
   "outputs": [
    {
     "data": {
      "text/plain": [
       "Index(['% responding right', '% responding wrong'], dtype='object', name=0)"
      ]
     },
     "execution_count": 96,
     "metadata": {},
     "output_type": "execute_result"
    }
   ],
   "source": [
    "df.columns"
   ]
  },
  {
   "cell_type": "code",
   "execution_count": 103,
   "metadata": {},
   "outputs": [],
   "source": [
    "df['% responding right'] = df['% responding right'].astype(int)\n",
    "df['% responding wrong'] = df['% responding wrong'].astype(int)"
   ]
  },
  {
   "cell_type": "code",
   "execution_count": 105,
   "metadata": {},
   "outputs": [
    {
     "data": {
      "text/plain": [
       "0\n",
       "% responding right    int32\n",
       "% responding wrong    int32\n",
       "dtype: object"
      ]
     },
     "execution_count": 105,
     "metadata": {},
     "output_type": "execute_result"
    }
   ],
   "source": [
    "df.dtypes"
   ]
  },
  {
   "cell_type": "code",
   "execution_count": 107,
   "metadata": {},
   "outputs": [
    {
     "data": {
      "image/png": "[encoded data removed]",
      "text/plain": [
       "<Figure size 640x480 with 1 Axes>"
      ]
     },
     "metadata": {},
     "output_type": "display_data"
    }
   ],
   "source": [
    "fig, ax = plt.subplots()\n",
    "ax.plot(df.index, df['% responding wrong'], label = 'Wrong')\n",
    "ax.plot(df.index, df['% responding right'], label='Right')\n",
    "ax.legend()\n",
    "ax.grid(axis='y')\n",
    "\n",
    "plt.show()\n"
   ]
  },
  {
   "cell_type": "code",
   "execution_count": 98,
   "metadata": {},
   "outputs": [
    {
     "data": {
      "text/html": [
       "<div>\n",
       "<style scoped>\n",
       "    .dataframe tbody tr th:only-of-type {\n",
       "        vertical-align: middle;\n",
       "    }\n",
       "\n",
       "    .dataframe tbody tr th {\n",
       "        vertical-align: top;\n",
       "    }\n",
       "\n",
       "    .dataframe thead th {\n",
       "        text-align: right;\n",
       "    }\n",
       "</style>\n",
       "<table border=\"1\" class=\"dataframe\">\n",
       "  <thead>\n",
       "    <tr style=\"text-align: right;\">\n",
       "      <th></th>\n",
       "      <th>% responding right</th>\n",
       "      <th>% responding wrong</th>\n",
       "    </tr>\n",
       "    <tr>\n",
       "      <th>Date</th>\n",
       "      <th></th>\n",
       "      <th></th>\n",
       "    </tr>\n",
       "  </thead>\n",
       "  <tbody>\n",
       "    <tr>\n",
       "      <th>2016-02-08</th>\n",
       "      <td>46</td>\n",
       "      <td>42</td>\n",
       "    </tr>\n",
       "    <tr>\n",
       "      <th>2016-05-12</th>\n",
       "      <td>44</td>\n",
       "      <td>42</td>\n",
       "    </tr>\n",
       "    <tr>\n",
       "      <th>2016-08-17</th>\n",
       "      <td>46</td>\n",
       "      <td>43</td>\n",
       "    </tr>\n",
       "    <tr>\n",
       "      <th>2016-08-23</th>\n",
       "      <td>45</td>\n",
       "      <td>43</td>\n",
       "    </tr>\n",
       "    <tr>\n",
       "      <th>2016-08-31</th>\n",
       "      <td>47</td>\n",
       "      <td>44</td>\n",
       "    </tr>\n",
       "  </tbody>\n",
       "</table>\n",
       "</div>"
      ],
      "text/plain": [
       "0          % responding right % responding wrong\n",
       "Date                                            \n",
       "2016-02-08                 46                 42\n",
       "2016-05-12                 44                 42\n",
       "2016-08-17                 46                 43\n",
       "2016-08-23                 45                 43\n",
       "2016-08-31                 47                 44"
      ]
     },
     "execution_count": 98,
     "metadata": {},
     "output_type": "execute_result"
    }
   ],
   "source": [
    "df.head()"
   ]
  },
  {
   "cell_type": "code",
   "execution_count": null,
   "metadata": {},
   "outputs": [],
   "source": []
  },
  {
   "cell_type": "code",
   "execution_count": 102,
   "metadata": {},
   "outputs": [
    {
     "data": {
      "text/plain": [
       "0\n",
       "% responding right    object\n",
       "% responding wrong    object\n",
       "dtype: object"
      ]
     },
     "execution_count": 102,
     "metadata": {},
     "output_type": "execute_result"
    }
   ],
   "source": [
    "df.dtypes"
   ]
  }
 ],
 "metadata": {
  "kernelspec": {
   "display_name": "Python 3",
   "language": "python",
   "name": "python3"
  },
  "language_info": {
   "codemirror_mode": {
    "name": "ipython",
    "version": 3
   },
   "file_extension": ".py",
   "mimetype": "text/x-python",
   "name": "python",
   "nbconvert_exporter": "python",
   "pygments_lexer": "ipython3",
   "version": "3.10.9"
  }
 },
 "nbformat": 4,
 "nbformat_minor": 2
}
